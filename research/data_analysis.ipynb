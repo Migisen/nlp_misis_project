{
 "cells": [
  {
   "cell_type": "markdown",
   "metadata": {},
   "source": [
    "# Анализ датасета по саркастическим высказыванием"
   ]
  },
  {
   "cell_type": "markdown",
   "metadata": {},
   "source": []
  },
  {
   "cell_type": "markdown",
   "metadata": {},
   "source": [
    "# Импорты / Конфиг"
   ]
  },
  {
   "cell_type": "code",
   "execution_count": 1,
   "metadata": {},
   "outputs": [],
   "source": [
    "import os\n",
    "from pathlib import Path\n",
    "\n",
    "import plotly.express as plotly_ex\n",
    "import polars as pl\n",
    "\n",
    "PATH_TO_DATA = Path(os.getcwd()).parent / 'dataset' / 'sarc_09-12.csv'\n"
   ]
  },
  {
   "cell_type": "markdown",
   "metadata": {},
   "source": [
    "## Загрузка данных"
   ]
  },
  {
   "cell_type": "code",
   "execution_count": 2,
   "metadata": {},
   "outputs": [
    {
     "data": {
      "text/plain": [
       "'Количество строк'"
      ]
     },
     "metadata": {},
     "output_type": "display_data"
    },
    {
     "data": {
      "text/plain": [
       "37010728"
      ]
     },
     "metadata": {},
     "output_type": "display_data"
    },
    {
     "data": {
      "text/plain": [
       "'Сводные статистические данные'"
      ]
     },
     "metadata": {},
     "output_type": "display_data"
    },
    {
     "data": {
      "text/html": [
       "<div><style>\n",
       ".dataframe > thead > tr,\n",
       ".dataframe > tbody > tr {\n",
       "  text-align: right;\n",
       "  white-space: pre-wrap;\n",
       "}\n",
       "</style>\n",
       "<small>shape: (9, 13)</small><table border=\"1\" class=\"dataframe\"><thead><tr><th>statistic</th><th>label</th><th>comment</th><th>user</th><th>subreddit</th><th>score</th><th>up</th><th>down</th><th>date</th><th>timestamp</th><th>parrent_comment</th><th>embed_1</th><th>embed_2</th></tr><tr><td>str</td><td>f64</td><td>str</td><td>str</td><td>str</td><td>f64</td><td>f64</td><td>f64</td><td>str</td><td>f64</td><td>str</td><td>str</td><td>str</td></tr></thead><tbody><tr><td>&quot;count&quot;</td><td>3.4001176e7</td><td>&quot;34001176&quot;</td><td>&quot;34001176&quot;</td><td>&quot;34001176&quot;</td><td>3.4001176e7</td><td>3.4001176e7</td><td>3.4001176e7</td><td>&quot;34001176&quot;</td><td>3.4001176e7</td><td>&quot;27218647&quot;</td><td>&quot;34001176&quot;</td><td>&quot;34001176&quot;</td></tr><tr><td>&quot;null_count&quot;</td><td>0.0</td><td>&quot;0&quot;</td><td>&quot;0&quot;</td><td>&quot;0&quot;</td><td>0.0</td><td>0.0</td><td>0.0</td><td>&quot;0&quot;</td><td>0.0</td><td>&quot;6782529&quot;</td><td>&quot;0&quot;</td><td>&quot;0&quot;</td></tr><tr><td>&quot;mean&quot;</td><td>0.001848</td><td>null</td><td>null</td><td>null</td><td>4.98358</td><td>4.98358</td><td>0.0</td><td>null</td><td>1.3237e9</td><td>null</td><td>null</td><td>null</td></tr><tr><td>&quot;std&quot;</td><td>0.042946</td><td>null</td><td>null</td><td>null</td><td>28.661038</td><td>28.661038</td><td>0.0</td><td>null</td><td>2.7665e7</td><td>null</td><td>null</td><td>null</td></tr><tr><td>&quot;min&quot;</td><td>0.0</td><td>&quot;\u0003I&#x27;ll pay that. Measles, Mumps…</td><td>&quot;---&quot;</td><td>&quot;002&quot;</td><td>-766.0</td><td>-766.0</td><td>0.0</td><td>&quot;2009-01&quot;</td><td>1.2308e9</td><td>&quot;\bAndroid is only mentioned onc…</td><td>&quot;7vb2&quot;</td><td>&quot;100&quot;</td></tr><tr><td>&quot;25%&quot;</td><td>0.0</td><td>null</td><td>null</td><td>null</td><td>1.0</td><td>1.0</td><td>0.0</td><td>null</td><td>1.3084e9</td><td>null</td><td>null</td><td>null</td></tr><tr><td>&quot;50%&quot;</td><td>0.0</td><td>null</td><td>null</td><td>null</td><td>2.0</td><td>2.0</td><td>0.0</td><td>null</td><td>1.3312e9</td><td>null</td><td>null</td><td>null</td></tr><tr><td>&quot;75%&quot;</td><td>0.0</td><td>null</td><td>null</td><td>null</td><td>3.0</td><td>3.0</td><td>0.0</td><td>null</td><td>1.3458e9</td><td>null</td><td>null</td><td>null</td></tr><tr><td>&quot;max&quot;</td><td>1.0</td><td>&quot;Wow. You really need to catch…</td><td>&quot;zzzev&quot;</td><td>&quot;zzzzzzzzzz&quot;</td><td>5484.0</td><td>5484.0</td><td>0.0</td><td>&quot;2012-12&quot;</td><td>1.3570e9</td><td>&quot;Right on! Finally, I will be …</td><td>&quot;c93v&quot;</td><td>&quot;zzzzz&quot;</td></tr></tbody></table></div>"
      ],
      "text/plain": [
       "shape: (9, 13)\n",
       "┌────────────┬────────────┬───────────┬──────────┬───┬───────────┬───────────┬──────────┬──────────┐\n",
       "│ statistic  ┆ label      ┆ comment   ┆ user     ┆ … ┆ timestamp ┆ parrent_c ┆ embed_1  ┆ embed_2  │\n",
       "│ ---        ┆ ---        ┆ ---       ┆ ---      ┆   ┆ ---       ┆ omment    ┆ ---      ┆ ---      │\n",
       "│ str        ┆ f64        ┆ str       ┆ str      ┆   ┆ f64       ┆ ---       ┆ str      ┆ str      │\n",
       "│            ┆            ┆           ┆          ┆   ┆           ┆ str       ┆          ┆          │\n",
       "╞════════════╪════════════╪═══════════╪══════════╪═══╪═══════════╪═══════════╪══════════╪══════════╡\n",
       "│ count      ┆ 3.4001176e ┆ 34001176  ┆ 34001176 ┆ … ┆ 3.4001176 ┆ 27218647  ┆ 34001176 ┆ 34001176 │\n",
       "│            ┆ 7          ┆           ┆          ┆   ┆ e7        ┆           ┆          ┆          │\n",
       "│ null_count ┆ 0.0        ┆ 0         ┆ 0        ┆ … ┆ 0.0       ┆ 6782529   ┆ 0        ┆ 0        │\n",
       "│ mean       ┆ 0.001848   ┆ null      ┆ null     ┆ … ┆ 1.3237e9  ┆ null      ┆ null     ┆ null     │\n",
       "│ std        ┆ 0.042946   ┆ null      ┆ null     ┆ … ┆ 2.7665e7  ┆ null      ┆ null     ┆ null     │\n",
       "│ min        ┆ 0.0        ┆ \u0003I'll pay ┆ ---      ┆ … ┆ 1.2308e9  ┆ \bAndroid  ┆ 7vb2     ┆ 100      │\n",
       "│            ┆            ┆ that.     ┆          ┆   ┆           ┆ is only   ┆          ┆          │\n",
       "│            ┆            ┆ Measles,  ┆          ┆   ┆           ┆ mentioned ┆          ┆          │\n",
       "│            ┆            ┆ Mumps…    ┆          ┆   ┆           ┆ onc…      ┆          ┆          │\n",
       "│ 25%        ┆ 0.0        ┆ null      ┆ null     ┆ … ┆ 1.3084e9  ┆ null      ┆ null     ┆ null     │\n",
       "│ 50%        ┆ 0.0        ┆ null      ┆ null     ┆ … ┆ 1.3312e9  ┆ null      ┆ null     ┆ null     │\n",
       "│ 75%        ┆ 0.0        ┆ null      ┆ null     ┆ … ┆ 1.3458e9  ┆ null      ┆ null     ┆ null     │\n",
       "│ max        ┆ 1.0        ┆ Wow. You ┆ zzzev    ┆ … ┆ 1.3570e9  ┆ Right    ┆ c93v     ┆ zzzzz    │\n",
       "│            ┆            ┆ really    ┆          ┆   ┆           ┆ on!       ┆          ┆          │\n",
       "│            ┆            ┆ need to   ┆          ┆   ┆           ┆ Finally,  ┆          ┆          │\n",
       "│            ┆            ┆ catch…    ┆          ┆   ┆           ┆ I will be ┆          ┆          │\n",
       "│            ┆            ┆           ┆          ┆   ┆           ┆ …         ┆          ┆          │\n",
       "└────────────┴────────────┴───────────┴──────────┴───┴───────────┴───────────┴──────────┴──────────┘"
      ]
     },
     "metadata": {},
     "output_type": "display_data"
    }
   ],
   "source": [
    "raw_sarcasm_df = pl.scan_csv(\n",
    "    PATH_TO_DATA,\n",
    "    separator='\\t',\n",
    "    has_header=False,\n",
    "    with_column_names=lambda cols: [\n",
    "        'label',\n",
    "        'comment',\n",
    "        'user',\n",
    "        'subreddit',\n",
    "        'score',\n",
    "        'up',\n",
    "        'down',\n",
    "        'date',\n",
    "        'timestamp',\n",
    "        'parrent_comment',\n",
    "        'embed_1',\n",
    "        'embed_2'\n",
    "    ],\n",
    ")\n",
    "\n",
    "display('Количество строк')\n",
    "display(raw_sarcasm_df.select(pl.len()).collect().item())\n",
    "\n",
    "display('Сводные статистические данные')\n",
    "display(raw_sarcasm_df.describe())"
   ]
  },
  {
   "cell_type": "markdown",
   "metadata": {},
   "source": [
    "## Характеристики данных\n",
    "\n",
    "### Распределение классов"
   ]
  },
  {
   "cell_type": "code",
   "execution_count": 5,
   "metadata": {},
   "outputs": [
    {
     "data": {
      "text/html": [
       "<div><style>\n",
       ".dataframe > thead > tr,\n",
       ".dataframe > tbody > tr {\n",
       "  text-align: right;\n",
       "  white-space: pre-wrap;\n",
       "}\n",
       "</style>\n",
       "<small>shape: (2, 2)</small><table border=\"1\" class=\"dataframe\"><thead><tr><th>label</th><th>label_count</th></tr><tr><td>i64</td><td>u32</td></tr></thead><tbody><tr><td>1</td><td>62827</td></tr><tr><td>0</td><td>33938349</td></tr></tbody></table></div>"
      ],
      "text/plain": [
       "shape: (2, 2)\n",
       "┌───────┬─────────────┐\n",
       "│ label ┆ label_count │\n",
       "│ ---   ┆ ---         │\n",
       "│ i64   ┆ u32         │\n",
       "╞═══════╪═════════════╡\n",
       "│ 1     ┆ 62827       │\n",
       "│ 0     ┆ 33938349    │\n",
       "└───────┴─────────────┘"
      ]
     },
     "metadata": {},
     "output_type": "display_data"
    },
    {
     "ename": "ValueError",
     "evalue": "Mime type rendering requires nbformat>=4.2.0 but it is not installed",
     "output_type": "error",
     "traceback": [
      "\u001b[0;31m---------------------------------------------------------------------------\u001b[0m",
      "\u001b[0;31mValueError\u001b[0m                                Traceback (most recent call last)",
      "Cell \u001b[0;32mIn[5], line 4\u001b[0m\n\u001b[1;32m      2\u001b[0m display(class_distribution_df)\n\u001b[1;32m      3\u001b[0m fig \u001b[38;5;241m=\u001b[39m plotly_ex\u001b[38;5;241m.\u001b[39mhistogram(class_distribution_df, x\u001b[38;5;241m=\u001b[39m\u001b[38;5;124m'\u001b[39m\u001b[38;5;124mlabel_count\u001b[39m\u001b[38;5;124m'\u001b[39m)\n\u001b[0;32m----> 4\u001b[0m \u001b[43mfig\u001b[49m\u001b[38;5;241;43m.\u001b[39;49m\u001b[43mshow\u001b[49m\u001b[43m(\u001b[49m\u001b[43m)\u001b[49m\n",
      "File \u001b[0;32m~/.cache/pypoetry/virtualenvs/nlp-misis-project-UExMV6DJ-py3.13/lib/python3.13/site-packages/plotly/basedatatypes.py:3410\u001b[0m, in \u001b[0;36mBaseFigure.show\u001b[0;34m(self, *args, **kwargs)\u001b[0m\n\u001b[1;32m   3377\u001b[0m \u001b[38;5;250m\u001b[39m\u001b[38;5;124;03m\"\"\"\u001b[39;00m\n\u001b[1;32m   3378\u001b[0m \u001b[38;5;124;03mShow a figure using either the default renderer(s) or the renderer(s)\u001b[39;00m\n\u001b[1;32m   3379\u001b[0m \u001b[38;5;124;03mspecified by the renderer argument\u001b[39;00m\n\u001b[0;32m   (...)\u001b[0m\n\u001b[1;32m   3406\u001b[0m \u001b[38;5;124;03mNone\u001b[39;00m\n\u001b[1;32m   3407\u001b[0m \u001b[38;5;124;03m\"\"\"\u001b[39;00m\n\u001b[1;32m   3408\u001b[0m \u001b[38;5;28;01mimport\u001b[39;00m \u001b[38;5;21;01mplotly\u001b[39;00m\u001b[38;5;21;01m.\u001b[39;00m\u001b[38;5;21;01mio\u001b[39;00m \u001b[38;5;28;01mas\u001b[39;00m \u001b[38;5;21;01mpio\u001b[39;00m\n\u001b[0;32m-> 3410\u001b[0m \u001b[38;5;28;01mreturn\u001b[39;00m \u001b[43mpio\u001b[49m\u001b[38;5;241;43m.\u001b[39;49m\u001b[43mshow\u001b[49m\u001b[43m(\u001b[49m\u001b[38;5;28;43mself\u001b[39;49m\u001b[43m,\u001b[49m\u001b[43m \u001b[49m\u001b[38;5;241;43m*\u001b[39;49m\u001b[43margs\u001b[49m\u001b[43m,\u001b[49m\u001b[43m \u001b[49m\u001b[38;5;241;43m*\u001b[39;49m\u001b[38;5;241;43m*\u001b[39;49m\u001b[43mkwargs\u001b[49m\u001b[43m)\u001b[49m\n",
      "File \u001b[0;32m~/.cache/pypoetry/virtualenvs/nlp-misis-project-UExMV6DJ-py3.13/lib/python3.13/site-packages/plotly/io/_renderers.py:394\u001b[0m, in \u001b[0;36mshow\u001b[0;34m(fig, renderer, validate, **kwargs)\u001b[0m\n\u001b[1;32m    389\u001b[0m         \u001b[38;5;28;01mraise\u001b[39;00m \u001b[38;5;167;01mValueError\u001b[39;00m(\n\u001b[1;32m    390\u001b[0m             \u001b[38;5;124m\"\u001b[39m\u001b[38;5;124mMime type rendering requires ipython but it is not installed\u001b[39m\u001b[38;5;124m\"\u001b[39m\n\u001b[1;32m    391\u001b[0m         )\n\u001b[1;32m    393\u001b[0m     \u001b[38;5;28;01mif\u001b[39;00m \u001b[38;5;129;01mnot\u001b[39;00m nbformat \u001b[38;5;129;01mor\u001b[39;00m Version(nbformat\u001b[38;5;241m.\u001b[39m__version__) \u001b[38;5;241m<\u001b[39m Version(\u001b[38;5;124m\"\u001b[39m\u001b[38;5;124m4.2.0\u001b[39m\u001b[38;5;124m\"\u001b[39m):\n\u001b[0;32m--> 394\u001b[0m         \u001b[38;5;28;01mraise\u001b[39;00m \u001b[38;5;167;01mValueError\u001b[39;00m(\n\u001b[1;32m    395\u001b[0m             \u001b[38;5;124m\"\u001b[39m\u001b[38;5;124mMime type rendering requires nbformat>=4.2.0 but it is not installed\u001b[39m\u001b[38;5;124m\"\u001b[39m\n\u001b[1;32m    396\u001b[0m         )\n\u001b[1;32m    398\u001b[0m     ipython_display\u001b[38;5;241m.\u001b[39mdisplay(bundle, raw\u001b[38;5;241m=\u001b[39m\u001b[38;5;28;01mTrue\u001b[39;00m)\n\u001b[1;32m    400\u001b[0m \u001b[38;5;66;03m# external renderers\u001b[39;00m\n",
      "\u001b[0;31mValueError\u001b[0m: Mime type rendering requires nbformat>=4.2.0 but it is not installed"
     ]
    }
   ],
   "source": [
    "class_distribution_df = raw_sarcasm_df.select('label').group_by('label').agg(pl.len().alias('label_count')).collect()\n",
    "display(class_distribution_df)\n",
    "fig = plotly_ex.histogram(class_distribution_df, x='label_count')\n",
    "fig.show()"
   ]
  },
  {
   "cell_type": "code",
   "execution_count": null,
   "metadata": {},
   "outputs": [],
   "source": []
  }
 ],
 "metadata": {
  "kernelspec": {
   "display_name": "nlp-misis-project-UExMV6DJ-py3.13",
   "language": "python",
   "name": "python3"
  },
  "language_info": {
   "codemirror_mode": {
    "name": "ipython",
    "version": 3
   },
   "file_extension": ".py",
   "mimetype": "text/x-python",
   "name": "python",
   "nbconvert_exporter": "python",
   "pygments_lexer": "ipython3",
   "version": "3.13.1"
  }
 },
 "nbformat": 4,
 "nbformat_minor": 2
}
